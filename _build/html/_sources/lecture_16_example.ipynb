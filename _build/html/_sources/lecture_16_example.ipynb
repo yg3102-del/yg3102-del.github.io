{
 "cells": [
  {
   "cell_type": "markdown",
   "id": "7c8821af",
   "metadata": {},
   "source": [
    "# Lecture 16 Example"
   ]
  },
  {
   "cell_type": "code",
   "execution_count": null,
   "id": "1f7d1af6",
   "metadata": {},
   "outputs": [],
   "source": [
    "import plotly.express as px\n",
    "\n",
    "df = px.data.tips()\n",
    "fig = px.scatter(df, x=\"total_bill\", y=\"tip\", facet_col=\"smoker\", color=\"sex\", trendline=\"ols\")\n",
    "fig.show()\n",
    "\n",
    "results = px.get_trendline_results(fig)\n",
    "print(results)\n",
    "\n",
    "results.query(\"sex == 'Male' and smoker == 'Yes'\").px_fit_results.iloc[0].summary()"
   ]
  },
  {
   "cell_type": "code",
   "execution_count": null,
   "id": "92f96daf",
   "metadata": {},
   "outputs": [],
   "source": [
    "import plotly.express as px\n",
    "\n",
    "df = px.data.tips()\n",
    "fig = px.scatter(df, x=\"total_bill\", y=\"tip\", symbol=\"smoker\", color=\"sex\", trendline=\"ols\", trendline_scope=\"overall\")\n",
    "fig.show()"
   ]
  },
  {
   "cell_type": "code",
   "execution_count": null,
   "id": "2f971dc5",
   "metadata": {},
   "outputs": [],
   "source": [
    "import plotly.express as px\n",
    "\n",
    "df = px.data.tips()\n",
    "fig = px.scatter(df, x=\"total_bill\", y=\"tip\", facet_col=\"smoker\", color=\"sex\", \n",
    "                 trendline=\"ols\", trendline_scope=\"overall\", trendline_color_override=\"black\")\n",
    "fig.show()"
   ]
  },
  {
   "cell_type": "code",
   "execution_count": null,
   "id": "91ffbd35",
   "metadata": {},
   "outputs": [],
   "source": [
    "import plotly.express as px\n",
    "\n",
    "df = px.data.gapminder(year=2007)\n",
    "fig = px.scatter(df, x=\"gdpPercap\", y=\"lifeExp\", \n",
    "                 trendline=\"ols\", trendline_options=dict(log_x=True),\n",
    "                 title=\"Log-transformed fit on linear axes\")\n",
    "fig.show()\n"
   ]
  },
  {
   "cell_type": "code",
   "execution_count": null,
   "id": "d5d32935",
   "metadata": {},
   "outputs": [],
   "source": [
    "import plotly.express as px\n",
    "\n",
    "df = px.data.gapminder(year=2007)\n",
    "fig = px.scatter(df, x=\"gdpPercap\", y=\"lifeExp\", log_x=True, \n",
    "                 trendline=\"ols\", trendline_options=dict(log_x=True),\n",
    "                 title=\"Log-scaled X axis and log-transformed fit\")\n",
    "fig.show()\n"
   ]
  },
  {
   "cell_type": "code",
   "execution_count": null,
   "id": "e0e5e47b",
   "metadata": {},
   "outputs": [],
   "source": [
    "import plotly.express as px\n",
    "\n",
    "df = px.data.stocks(datetimes=True)\n",
    "fig = px.scatter(df, x=\"date\", y=\"GOOG\", trendline=\"lowess\")\n",
    "fig.show()"
   ]
  },
  {
   "cell_type": "code",
   "execution_count": null,
   "id": "407d0be3",
   "metadata": {},
   "outputs": [],
   "source": [
    "import plotly.express as px\n",
    "\n",
    "df = px.data.stocks(datetimes=True)\n",
    "fig = px.scatter(df, x=\"date\", y=\"GOOG\", trendline=\"lowess\", trendline_options=dict(frac=0.1))\n",
    "fig.show()"
   ]
  }
 ],
 "metadata": {
  "kernelspec": {
   "display_name": "Python (.venv)",
   "language": "python",
   "name": ".venv"
  },
  "language_info": {
   "name": "python",
   "version": "3.13.7"
  }
 },
 "nbformat": 4,
 "nbformat_minor": 5
}
